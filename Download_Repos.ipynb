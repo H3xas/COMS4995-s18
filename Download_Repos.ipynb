{
 "cells": [
  {
   "cell_type": "code",
   "execution_count": 27,
   "metadata": {},
   "outputs": [],
   "source": [
    "from github import Github\n",
    "\n",
    "# First create a Github instance:\n",
    "\n",
    "g = Github(\"5c103d46120d27b0fac5d9d1b9df0b91c77c5d42\")\n"
   ]
  },
  {
   "cell_type": "code",
   "execution_count": 28,
   "metadata": {},
   "outputs": [],
   "source": [
    "org = g.get_organization(\"applied-ml-spring-18\")"
   ]
  },
  {
   "cell_type": "code",
   "execution_count": 29,
   "metadata": {},
   "outputs": [],
   "source": [
    "repos = org.get_repos()"
   ]
  },
  {
   "cell_type": "code",
   "execution_count": 30,
   "metadata": {},
   "outputs": [],
   "source": [
    "repos_list = list(repos)"
   ]
  },
  {
   "cell_type": "code",
   "execution_count": 34,
   "metadata": {},
   "outputs": [],
   "source": [
    "hw4 = [repo for repo in repos_list if \"homework-4\" in repo.full_name]"
   ]
  },
  {
   "cell_type": "code",
   "execution_count": 49,
   "metadata": {},
   "outputs": [],
   "source": [
    "import os"
   ]
  },
  {
   "cell_type": "code",
   "execution_count": 51,
   "metadata": {},
   "outputs": [],
   "source": [
    "os.chdir(\"/home/andy/Dropbox/columbia_safe/applied_machine_learning_spring_2018/submissions/\")"
   ]
  },
  {
   "cell_type": "code",
   "execution_count": null,
   "metadata": {},
   "outputs": [
    {
     "name": "stdout",
     "output_type": "stream",
     "text": [
      "git@github.com:applied-ml-spring-18/homework-4-chinwen_midhun_hw4.git\n",
      "git@github.com:applied-ml-spring-18/homework-4-chinwen_midhun_hw4-1.git\n",
      "git@github.com:applied-ml-spring-18/homework-4-chinwen_midhun_hw4-2.git\n",
      "git@github.com:applied-ml-spring-18/homework-4-srinidhi_hw4.git\n",
      "git@github.com:applied-ml-spring-18/homework-4-jsh2201_hw4.git\n",
      "git@github.com:applied-ml-spring-18/homework-4-dc_adi.git\n",
      "git@github.com:applied-ml-spring-18/homework-4-jonashan.git\n",
      "git@github.com:applied-ml-spring-18/homework-4-eddie_hw4.git\n",
      "git@github.com:applied-ml-spring-18/homework-4-siyan_wang_xiaohan_yi_hw4.git\n",
      "git@github.com:applied-ml-spring-18/homework-4-pinhao_xiaochun_hw4.git\n",
      "git@github.com:applied-ml-spring-18/homework-4-pinhao_xiaochun_hw4-1.git\n",
      "git@github.com:applied-ml-spring-18/homework-4-pinhao_xiaochun_hw4-2.git\n",
      "git@github.com:applied-ml-spring-18/homework-4-pinhao_xiaochun_hw4-3.git\n",
      "git@github.com:applied-ml-spring-18/homework-4-cindy-sharon.git\n",
      "git@github.com:applied-ml-spring-18/homework-4-deepak-and-alex.git\n",
      "git@github.com:applied-ml-spring-18/homework-4-kak2217_hw4.git\n",
      "git@github.com:applied-ml-spring-18/homework-4-anna_zhou-yunwen_cai_hw4.git\n",
      "git@github.com:applied-ml-spring-18/homework-4-am4810_ij2205.git\n",
      "git@github.com:applied-ml-spring-18/homework-4-maxime-marianne.git\n",
      "git@github.com:applied-ml-spring-18/homework-4-jrw2184.git\n",
      "git@github.com:applied-ml-spring-18/homework-4-jfg2150_ntl2105_hw4.git\n",
      "git@github.com:applied-ml-spring-18/homework-4-charissa-juliehw4.git\n",
      "git@github.com:applied-ml-spring-18/homework-4-carolyn-and-james.git\n",
      "git@github.com:applied-ml-spring-18/homework-4-jk4100_cl3403.git\n",
      "git@github.com:applied-ml-spring-18/homework-4-lmb2254_lk2715_hw4.git\n",
      "git@github.com:applied-ml-spring-18/homework-4-ikw2102.git\n",
      "git@github.com:applied-ml-spring-18/homework-4-cfi2103_nwchen.git\n",
      "git@github.com:applied-ml-spring-18/homework-4-team-hyper-posterior.git\n",
      "git@github.com:applied-ml-spring-18/homework-4-xd2199_hd2377_hw4.git\n",
      "git@github.com:applied-ml-spring-18/homework-4-kim_lee_hw4.git\n",
      "git@github.com:applied-ml-spring-18/homework-4-amber_hw4.git\n",
      "git@github.com:applied-ml-spring-18/homework-4-as5401_tn2364.git\n",
      "git@github.com:applied-ml-spring-18/homework-4-zx2214_wk2294.git\n",
      "git@github.com:applied-ml-spring-18/homework-4-serena_derek.git\n",
      "git@github.com:applied-ml-spring-18/homework-4-gwj2108_tme2120.git\n",
      "git@github.com:applied-ml-spring-18/homework-4-idlers.git\n",
      "git@github.com:applied-ml-spring-18/homework-4-bkv2103.git\n",
      "git@github.com:applied-ml-spring-18/homework-4-mrs2299.git\n",
      "git@github.com:applied-ml-spring-18/homework-4-zl2603_zz2497.git\n",
      "git@github.com:applied-ml-spring-18/homework-4-panda-express-4.git\n",
      "git@github.com:applied-ml-spring-18/homework-4-hongyue-lan-lingyun-gao-1.git\n",
      "git@github.com:applied-ml-spring-18/homework-4-codykathy_hw4.git\n",
      "git@github.com:applied-ml-spring-18/homework-4-lz2484.git\n",
      "git@github.com:applied-ml-spring-18/homework-4-ronpaul2012.git\n"
     ]
    }
   ],
   "source": [
    "for repo in hw4:\n",
    "    print(repo.ssh_url)\n",
    "    os.system(\"git clone {}\".format(repo.ssh_url))"
   ]
  },
  {
   "cell_type": "code",
   "execution_count": 65,
   "metadata": {},
   "outputs": [
    {
     "data": {
      "text/plain": [
       "'git@github.com:applied-ml-spring-18/homework-4-chinwen_midhun_hw4.git'"
      ]
     },
     "execution_count": 65,
     "metadata": {},
     "output_type": "execute_result"
    }
   ],
   "source": []
  },
  {
   "cell_type": "code",
   "execution_count": null,
   "metadata": {},
   "outputs": [],
   "source": []
  }
 ],
 "metadata": {
  "kernelspec": {
   "display_name": "Python [default]",
   "language": "python",
   "name": "python3"
  },
  "language_info": {
   "codemirror_mode": {
    "name": "ipython",
    "version": 3
   },
   "file_extension": ".py",
   "mimetype": "text/x-python",
   "name": "python",
   "nbconvert_exporter": "python",
   "pygments_lexer": "ipython3",
   "version": "3.6.3"
  }
 },
 "nbformat": 4,
 "nbformat_minor": 2
}
