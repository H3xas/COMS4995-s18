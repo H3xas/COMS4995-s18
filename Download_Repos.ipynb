{
 "cells": [
  {
   "cell_type": "code",
   "execution_count": 27,
   "metadata": {},
   "outputs": [],
   "source": [
    "from github import Github\n",
    "\n",
    "# First create a Github instance:\n",
    "\n",
    "g = Github(\"5c103d46120d27b0fac5d9d1b9df0b91c77c5d42\")\n"
   ]
  },
  {
   "cell_type": "code",
   "execution_count": 28,
   "metadata": {},
   "outputs": [],
   "source": [
    "org = g.get_organization(\"applied-ml-spring-18\")"
   ]
  },
  {
   "cell_type": "code",
   "execution_count": 29,
   "metadata": {},
   "outputs": [],
   "source": [
    "repos = org.get_repos()"
   ]
  },
  {
   "cell_type": "code",
   "execution_count": 30,
   "metadata": {},
   "outputs": [],
   "source": [
    "repos_list = list(repos)"
   ]
  },
  {
   "cell_type": "code",
   "execution_count": 34,
   "metadata": {},
   "outputs": [],
   "source": [
    "hw4 = [repo for repo in repos_list if \"homework-4\" in repo.full_name]"
   ]
  },
  {
   "cell_type": "code",
   "execution_count": 49,
   "metadata": {},
   "outputs": [],
   "source": [
    "import os"
   ]
  },
  {
   "cell_type": "code",
   "execution_count": 51,
   "metadata": {},
   "outputs": [],
   "source": [
    "os.chdir(\"/home/andy/Dropbox/columbia_safe/applied_machine_learning_spring_2018/submissions/\")"
   ]
  },
  {
   "cell_type": "code",
   "execution_count": 69,
   "metadata": {},
   "outputs": [
    {
     "name": "stdout",
     "output_type": "stream",
     "text": [
      "git@github.com:applied-ml-spring-18/homework-4-chinwen_midhun_hw4.git\n",
      "git@github.com:applied-ml-spring-18/homework-4-chinwen_midhun_hw4-1.git\n",
      "git@github.com:applied-ml-spring-18/homework-4-chinwen_midhun_hw4-2.git\n",
      "git@github.com:applied-ml-spring-18/homework-4-srinidhi_hw4.git\n",
      "git@github.com:applied-ml-spring-18/homework-4-jsh2201_hw4.git\n",
      "git@github.com:applied-ml-spring-18/homework-4-dc_adi.git\n",
      "git@github.com:applied-ml-spring-18/homework-4-jonashan.git\n",
      "git@github.com:applied-ml-spring-18/homework-4-eddie_hw4.git\n",
      "git@github.com:applied-ml-spring-18/homework-4-siyan_wang_xiaohan_yi_hw4.git\n",
      "git@github.com:applied-ml-spring-18/homework-4-pinhao_xiaochun_hw4.git\n",
      "git@github.com:applied-ml-spring-18/homework-4-pinhao_xiaochun_hw4-1.git\n",
      "git@github.com:applied-ml-spring-18/homework-4-pinhao_xiaochun_hw4-2.git\n",
      "git@github.com:applied-ml-spring-18/homework-4-pinhao_xiaochun_hw4-3.git\n",
      "git@github.com:applied-ml-spring-18/homework-4-cindy-sharon.git\n",
      "git@github.com:applied-ml-spring-18/homework-4-deepak-and-alex.git\n",
      "git@github.com:applied-ml-spring-18/homework-4-kak2217_hw4.git\n",
      "git@github.com:applied-ml-spring-18/homework-4-anna_zhou-yunwen_cai_hw4.git\n",
      "git@github.com:applied-ml-spring-18/homework-4-am4810_ij2205.git\n",
      "git@github.com:applied-ml-spring-18/homework-4-maxime-marianne.git\n",
      "git@github.com:applied-ml-spring-18/homework-4-jrw2184.git\n",
      "git@github.com:applied-ml-spring-18/homework-4-jfg2150_ntl2105_hw4.git\n",
      "git@github.com:applied-ml-spring-18/homework-4-charissa-juliehw4.git\n",
      "git@github.com:applied-ml-spring-18/homework-4-carolyn-and-james.git\n",
      "git@github.com:applied-ml-spring-18/homework-4-jk4100_cl3403.git\n",
      "git@github.com:applied-ml-spring-18/homework-4-lmb2254_lk2715_hw4.git\n",
      "git@github.com:applied-ml-spring-18/homework-4-ikw2102.git\n",
      "git@github.com:applied-ml-spring-18/homework-4-cfi2103_nwchen.git\n",
      "git@github.com:applied-ml-spring-18/homework-4-team-hyper-posterior.git\n",
      "git@github.com:applied-ml-spring-18/homework-4-xd2199_hd2377_hw4.git\n",
      "git@github.com:applied-ml-spring-18/homework-4-kim_lee_hw4.git\n",
      "git@github.com:applied-ml-spring-18/homework-4-amber_hw4.git\n",
      "git@github.com:applied-ml-spring-18/homework-4-as5401_tn2364.git\n",
      "git@github.com:applied-ml-spring-18/homework-4-zx2214_wk2294.git\n",
      "git@github.com:applied-ml-spring-18/homework-4-serena_derek.git\n",
      "git@github.com:applied-ml-spring-18/homework-4-gwj2108_tme2120.git\n",
      "git@github.com:applied-ml-spring-18/homework-4-idlers.git\n",
      "git@github.com:applied-ml-spring-18/homework-4-bkv2103.git\n",
      "git@github.com:applied-ml-spring-18/homework-4-mrs2299.git\n",
      "git@github.com:applied-ml-spring-18/homework-4-zl2603_zz2497.git\n",
      "git@github.com:applied-ml-spring-18/homework-4-panda-express-4.git\n",
      "git@github.com:applied-ml-spring-18/homework-4-hongyue-lan-lingyun-gao-1.git\n",
      "git@github.com:applied-ml-spring-18/homework-4-codykathy_hw4.git\n",
      "git@github.com:applied-ml-spring-18/homework-4-lz2484.git\n",
      "git@github.com:applied-ml-spring-18/homework-4-ronpaul2012.git\n",
      "git@github.com:applied-ml-spring-18/homework-4-rmk2160.git\n",
      "git@github.com:applied-ml-spring-18/homework-4-homework4-james-yifeng.git\n",
      "git@github.com:applied-ml-spring-18/homework-4-ola_hw4.git\n",
      "git@github.com:applied-ml-spring-18/homework-4-harsheel-valmik-hw4.git\n",
      "git@github.com:applied-ml-spring-18/homework-4-jjp2172.git\n",
      "git@github.com:applied-ml-spring-18/homework-4-yuanhao-xueyao.git\n",
      "git@github.com:applied-ml-spring-18/homework-4-yingxin_tangyao_hw4.git\n",
      "git@github.com:applied-ml-spring-18/homework-4-rp2826_hw4.git\n",
      "git@github.com:applied-ml-spring-18/homework-4-avm2119_hw4.git\n",
      "git@github.com:applied-ml-spring-18/homework-4-jakemsnyder.git\n",
      "git@github.com:applied-ml-spring-18/homework-4-louis_massera_hw4.git\n",
      "git@github.com:applied-ml-spring-18/homework-4-jinhancheng-xiangzimeng_hw4.git\n",
      "git@github.com:applied-ml-spring-18/homework-4-dg3001.git\n",
      "git@github.com:applied-ml-spring-18/homework-4-pm2666.git\n",
      "git@github.com:applied-ml-spring-18/homework-4-wgf2102_hw4.git\n",
      "git@github.com:applied-ml-spring-18/homework-4-dn2387_ms5488_hw4.git\n",
      "git@github.com:applied-ml-spring-18/homework-4-jingyi-siwen.git\n",
      "git@github.com:applied-ml-spring-18/homework-4-yao_qinwei.git\n",
      "git@github.com:applied-ml-spring-18/homework-4-csr2131_hw4.git\n",
      "git@github.com:applied-ml-spring-18/homework-4-aml-hw4.git\n",
      "git@github.com:applied-ml-spring-18/homework-4-yixiang-jack-hw4.git\n",
      "git@github.com:applied-ml-spring-18/homework-4-jingyu_chizhang_hw4.git\n",
      "git@github.com:applied-ml-spring-18/homework-4-homework4-zach-wenting.git\n",
      "git@github.com:applied-ml-spring-18/homework-4-dw2587_hw4.git\n",
      "git@github.com:applied-ml-spring-18/homework-4-jake_and_arshia.git\n",
      "git@github.com:applied-ml-spring-18/homework-4-wenting-su_hw4.git\n",
      "git@github.com:applied-ml-spring-18/homework-4-mrin-and-nandini_hw4.git\n",
      "git@github.com:applied-ml-spring-18/homework-4-dh2863_-_su2216.git\n",
      "git@github.com:applied-ml-spring-18/homework-4-ritu_aish.git\n",
      "git@github.com:applied-ml-spring-18/homework-4-jiachen-yang-qiao.git\n",
      "git@github.com:applied-ml-spring-18/homework-4-yl_qwz.git\n",
      "git@github.com:applied-ml-spring-18/homework-4-youyang.git\n",
      "git@github.com:applied-ml-spring-18/homework-4-mingyang.git\n",
      "git@github.com:applied-ml-spring-18/homework-4-jie-lu-mingyang-.git\n",
      "git@github.com:applied-ml-spring-18/homework-4-yunwen_cai-anna-zhou.git\n",
      "git@github.com:applied-ml-spring-18/homework-4-tl2795_xl2698.git\n",
      "git@github.com:applied-ml-spring-18/homework-4-elizabet_hw4.git\n",
      "git@github.com:applied-ml-spring-18/homework-4-hw4_sithal_victor.git\n",
      "git@github.com:applied-ml-spring-18/homework-4-xinyu_xu_hw4.git\n",
      "git@github.com:applied-ml-spring-18/homework-4-jw3474_hw4.git\n",
      "git@github.com:applied-ml-spring-18/homework-4-jp3378_hw4.git\n",
      "git@github.com:applied-ml-spring-18/homework-4-kaiyi_hw4.git\n"
     ]
    }
   ],
   "source": [
    "for repo in hw4:\n",
    "    print(repo.ssh_url)\n",
    "    os.system(\"git clone {}\".format(repo.ssh_url))"
   ]
  },
  {
   "cell_type": "markdown",
   "metadata": {},
   "source": [
    "## Remove empty folders"
   ]
  },
  {
   "cell_type": "code",
   "execution_count": 88,
   "metadata": {},
   "outputs": [],
   "source": [
    "import shutil\n",
    "from os import listdir\n",
    "for repo in hw4:\n",
    "    try:\n",
    "        l = listdir(repo.name)\n",
    "    except FileNotFoundError:\n",
    "        pass\n",
    "    if len(l) < 2:\n",
    "        # has .git folder\n",
    "        shutil.rmtree(repo.name)\n"
   ]
  },
  {
   "cell_type": "markdown",
   "metadata": {},
   "source": [
    "### Convert notebooks to python files"
   ]
  },
  {
   "cell_type": "code",
   "execution_count": 96,
   "metadata": {},
   "outputs": [],
   "source": [
    "\n",
    "from glob import glob\n",
    "\n",
    "notebooks = glob(\"*/*.ipynb\")"
   ]
  },
  {
   "cell_type": "code",
   "execution_count": 97,
   "metadata": {},
   "outputs": [],
   "source": [
    "import nbconvert"
   ]
  },
  {
   "cell_type": "code",
   "execution_count": 99,
   "metadata": {},
   "outputs": [
    {
     "name": "stdout",
     "output_type": "stream",
     "text": [
      "homework-4-kim_lee_hw4/hw4_kim_lee_final.ipynb\n",
      "homework-4-cfi2103_nwchen/Task1.ipynb\n",
      "homework-4-cfi2103_nwchen/Task 2.ipynb\n",
      "homework-4-cfi2103_nwchen/Task4.ipynb\n",
      "homework-4-cfi2103_nwchen/Task2and3.ipynb\n",
      "homework-4-youyang/hw4.ipynb\n",
      "homework-4-elizabet_hw4/AML_HW4.ipynb\n",
      "homework-4-amber_hw4/AMLHW4xm2209.ipynb\n",
      "homework-4-wgf2102_hw4/wgf2102_hw4.ipynb\n",
      "homework-4-pinhao_xiaochun_hw4-3/HW4_Tasks.ipynb\n",
      "homework-4-ritu_aish/AML_HW4.ipynb\n",
      "homework-4-jake_and_arshia/arshia_jake_hw4_v1.ipynb\n",
      "homework-4-jake_and_arshia/arshia_jake_hw4_v0.ipynb\n",
      "homework-4-jingyu_chizhang_hw4/HW4.ipynb\n",
      "homework-4-csr2131_hw4/HW4.ipynb\n",
      "homework-4-hw4_sithal_victor/Thyroid (1).ipynb\n",
      "homework-4-team-hyper-posterior/Untitled.ipynb\n",
      "homework-4-eddie_hw4/hw4_test.ipynb\n",
      "homework-4-eddie_hw4/hw4_ys3118.ipynb\n",
      "homework-4-jinhancheng-xiangzimeng_hw4/hw4.ipynb\n",
      "homework-4-xinyu_xu_hw4/hw4_xx2282.ipynb\n",
      "homework-4-yixiang-jack-hw4/AML_hw4.ipynb\n",
      "homework-4-pm2666/HW4.ipynb\n",
      "homework-4-deepak-and-alex/Homework 4.ipynb\n",
      "homework-4-jp3378_hw4/HW4_jp3378.ipynb\n",
      "homework-4-yl_qwz/AML-HW4.ipynb\n",
      "homework-4-dw2587_hw4/task3.ipynb\n",
      "homework-4-dw2587_hw4/task4.ipynb\n",
      "homework-4-dw2587_hw4/task2.ipynb\n",
      "homework-4-dw2587_hw4/task1.ipynb\n",
      "homework-4-jie-lu-mingyang-/AML HW4.ipynb\n",
      "homework-4-siyan_wang_xiaohan_yi_hw4/hw4.ipynb\n",
      "homework-4-jfg2150_ntl2105_hw4/homework-4-jfg2150-ntl2105.ipynb\n",
      "homework-4-kaiyi_hw4/Untitled1.ipynb\n",
      "homework-4-idlers/Homework 4.ipynb\n",
      "homework-4-yuanhao-xueyao/Homework4.ipynb\n",
      "homework-4-mrin-and-nandini_hw4/HW4_nm3007_mt2947.ipynb\n",
      "homework-4-harsheel-valmik-hw4/HomeWork4.ipynb\n",
      "homework-4-as5401_tn2364/hw4_task2_3.ipynb\n",
      "homework-4-as5401_tn2364/hw4_task4.ipynb\n",
      "homework-4-as5401_tn2364/hw4_task1.ipynb\n",
      "homework-4-louis_massera_hw4/hw4_lm3287.ipynb\n",
      "homework-4-panda-express-4/hw4.ipynb\n",
      "homework-4-dn2387_ms5488_hw4/task2_clustering.ipynb\n",
      "homework-4-dn2387_ms5488_hw4/task1_visualization.ipynb\n",
      "homework-4-dn2387_ms5488_hw4/task4_imbalanced_classification.ipynb\n",
      "homework-4-dn2387_ms5488_hw4/task3_outlier_detection.ipynb\n",
      "homework-4-srinidhi_hw4/HW_4.ipynb\n",
      "homework-4-hongyue-lan-lingyun-gao-1/Homework4.ipynb\n",
      "homework-4-dh2863_-_su2216/HW4_AML.ipynb\n",
      "homework-4-zx2214_wk2294/hw4.ipynb\n",
      "homework-4-mrs2299/HW4.ipynb\n",
      "homework-4-aml-hw4/AML HW 4.ipynb\n",
      "homework-4-zl2603_zz2497/hw4.ipynb\n",
      "homework-4-kak2217_hw4/Homework4.ipynb\n",
      "homework-4-ronpaul2012/hw4.ipynb\n",
      "homework-4-yingxin_tangyao_hw4/hw4_task3_4.ipynb\n",
      "homework-4-yingxin_tangyao_hw4/hw4_task1_2.ipynb\n",
      "homework-4-carolyn-and-james/HW4 Task 4.ipynb\n",
      "homework-4-carolyn-and-james/HW4_Task1.ipynb\n",
      "homework-4-carolyn-and-james/HW4.ipynb\n",
      "homework-4-carolyn-and-james/HW4 Task 2.ipynb\n",
      "homework-4-bkv2103/hw_4.ipynb\n",
      "homework-4-yunwen_cai-anna-zhou/hw4_final.ipynb\n",
      "homework-4-jiachen-yang-qiao/HW4.ipynb\n",
      "homework-4-jk4100_cl3403/Homework4.ipynb\n",
      "homework-4-jsh2201_hw4/Homework 4.ipynb\n",
      "homework-4-dg3001/dg3001HW4.ipynb\n",
      "homework-4-am4810_ij2205/HOMEWORK 4.ipynb\n",
      "homework-4-lmb2254_lk2715_hw4/Task1.ipynb\n",
      "homework-4-lmb2254_lk2715_hw4/Task2.ipynb\n",
      "homework-4-lmb2254_lk2715_hw4/Task3.ipynb\n",
      "homework-4-lmb2254_lk2715_hw4/Task4.ipynb\n",
      "homework-4-homework4-james-yifeng/HW4_1_2.ipynb\n",
      "homework-4-homework4-james-yifeng/HW4_3_4.ipynb\n",
      "homework-4-wenting-su_hw4/aml-hw4.ipynb\n",
      "homework-4-ikw2102/hw4-ikw2102.ipynb\n",
      "homework-4-gwj2108_tme2120/hw4_gwj2108_tme2120.ipynb\n",
      "homework-4-jingyi-siwen/task3&task4.ipynb\n",
      "homework-4-jingyi-siwen/Task1&2.ipynb\n",
      "homework-4-jakemsnyder/Homework4.ipynb\n",
      "homework-4-cindy-sharon/hw4.ipynb\n",
      "homework-4-cindy-sharon/Task2.ipynb\n",
      "homework-4-chinwen_midhun_hw4-2/Task1_draft.ipynb\n",
      "homework-4-chinwen_midhun_hw4-2/Task4_draft.ipynb\n",
      "homework-4-chinwen_midhun_hw4-2/Task2_draft.ipynb\n",
      "homework-4-chinwen_midhun_hw4-2/Task3_draft.ipynb\n",
      "homework-4-maxime-marianne/Code.ipynb\n",
      "homework-4-lz2484/Untitled.ipynb\n",
      "homework-4-lz2484/HW4_lz2484.ipynb\n",
      "homework-4-ola_hw4/hw4_thyroid.ipynb\n",
      "homework-4-rmk2160/Solutions.ipynb\n",
      "homework-4-serena_derek/task-4.ipynb\n",
      "homework-4-serena_derek/task-2.ipynb\n",
      "homework-4-serena_derek/task-3.ipynb\n",
      "homework-4-serena_derek/task-1.ipynb\n",
      "homework-4-jw3474_hw4/hw4_jw3474.ipynb\n",
      "homework-4-jonashan/homework4.ipynb\n",
      "homework-4-charissa-juliehw4/HW4.ipynb\n",
      "homework-4-avm2119_hw4/HW4.ipynb\n",
      "homework-4-homework4-zach-wenting/hw4.ipynb\n",
      "homework-4-dc_adi/hw4_aml_task1_2.ipynb\n",
      "homework-4-dc_adi/aml_hw4_task3_4.ipynb\n",
      "homework-4-tl2795_xl2698/HW4.ipynb\n",
      "homework-4-xd2199_hd2377_hw4/Task2_1109AM.ipynb\n",
      "homework-4-xd2199_hd2377_hw4/hw4task3and4.ipynb\n",
      "homework-4-xd2199_hd2377_hw4/hw4task1.ipynb\n",
      "homework-4-jrw2184/HW4.ipynb\n",
      "homework-4-codykathy_hw4/HW4FinalNotebook.ipynb\n"
     ]
    }
   ],
   "source": [
    "for notebook in notebooks:\n",
    "    print(notebook)\n",
    "    os.system(\"nbconvert {} --to script\".format(repo.ssh_url))"
   ]
  },
  {
   "cell_type": "code",
   "execution_count": null,
   "metadata": {},
   "outputs": [],
   "source": []
  }
 ],
 "metadata": {
  "kernelspec": {
   "display_name": "Python [default]",
   "language": "python",
   "name": "python3"
  },
  "language_info": {
   "codemirror_mode": {
    "name": "ipython",
    "version": 3
   },
   "file_extension": ".py",
   "mimetype": "text/x-python",
   "name": "python",
   "nbconvert_exporter": "python",
   "pygments_lexer": "ipython3",
   "version": "3.6.3"
  }
 },
 "nbformat": 4,
 "nbformat_minor": 2
}
